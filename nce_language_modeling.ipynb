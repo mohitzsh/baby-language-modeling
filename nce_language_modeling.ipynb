{
 "cells": [
  {
   "cell_type": "markdown",
   "metadata": {},
   "source": [
    "# Noice Contrastive Estimation for Language Modeling\n",
    "We implement a language model on Penn Treebank corpus using the Noice Contrastive Estimation (NCE). The implementation is based on the model & algorithm introduced in paper [A fast and simple algorithm for training neural probabilistic\n",
    "language models](https://arxiv.org/abs/1206.6426) by Andriy Mnih & Yee Whye Teh. "
   ]
  },
  {
   "cell_type": "markdown",
   "metadata": {},
   "source": []
  }
 ],
 "metadata": {
  "language_info": {
   "name": "python"
  }
 },
 "nbformat": 4,
 "nbformat_minor": 2
}
